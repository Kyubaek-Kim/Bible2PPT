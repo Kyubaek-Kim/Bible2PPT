{
 "cells": [
  {
   "cell_type": "code",
   "execution_count": 1,
   "metadata": {},
   "outputs": [
    {
     "name": "stdout",
     "output_type": "stream",
     "text": [
      "Collecting python-pptx\n",
      "  Downloading python_pptx-1.0.2-py3-none-any.whl.metadata (2.5 kB)\n",
      "Requirement already satisfied: Pillow>=3.3.2 in c:\\users\\kgb08\\appdata\\local\\programs\\python\\python312\\lib\\site-packages (from python-pptx) (10.3.0)\n",
      "Collecting XlsxWriter>=0.5.7 (from python-pptx)\n",
      "  Downloading xlsxwriter-3.2.5-py3-none-any.whl.metadata (2.7 kB)\n",
      "Collecting lxml>=3.1.0 (from python-pptx)\n",
      "  Downloading lxml-5.4.0-cp312-cp312-win_amd64.whl.metadata (3.6 kB)\n",
      "Requirement already satisfied: typing-extensions>=4.9.0 in c:\\users\\kgb08\\appdata\\local\\programs\\python\\python312\\lib\\site-packages (from python-pptx) (4.11.0)\n",
      "Downloading python_pptx-1.0.2-py3-none-any.whl (472 kB)\n",
      "   ---------------------------------------- 0.0/472.8 kB ? eta -:--:--\n",
      "    --------------------------------------- 10.2/472.8 kB ? eta -:--:--\n",
      "   --- ----------------------------------- 41.0/472.8 kB 495.5 kB/s eta 0:00:01\n",
      "   ------------------- -------------------- 235.5/472.8 kB 1.8 MB/s eta 0:00:01\n",
      "   ---------------------------------------- 472.8/472.8 kB 3.3 MB/s eta 0:00:00\n",
      "Downloading lxml-5.4.0-cp312-cp312-win_amd64.whl (3.8 MB)\n",
      "   ---------------------------------------- 0.0/3.8 MB ? eta -:--:--\n",
      "   ---- ----------------------------------- 0.5/3.8 MB 9.4 MB/s eta 0:00:01\n",
      "   ------------ --------------------------- 1.2/3.8 MB 12.4 MB/s eta 0:00:01\n",
      "   ---------------- ----------------------- 1.6/3.8 MB 12.5 MB/s eta 0:00:01\n",
      "   -------------------- ------------------- 2.0/3.8 MB 11.4 MB/s eta 0:00:01\n",
      "   -------------------------- ------------- 2.5/3.8 MB 11.4 MB/s eta 0:00:01\n",
      "   -------------------------- ------------- 2.6/3.8 MB 10.2 MB/s eta 0:00:01\n",
      "   -------------------------------- ------- 3.1/3.8 MB 10.0 MB/s eta 0:00:01\n",
      "   ------------------------------------- -- 3.6/3.8 MB 10.0 MB/s eta 0:00:01\n",
      "   ---------------------------------------- 3.8/3.8 MB 9.4 MB/s eta 0:00:00\n",
      "Downloading xlsxwriter-3.2.5-py3-none-any.whl (172 kB)\n",
      "   ---------------------------------------- 0.0/172.3 kB ? eta -:--:--\n",
      "   --------------------------------------- 172.3/172.3 kB 10.8 MB/s eta 0:00:00\n",
      "Installing collected packages: XlsxWriter, lxml, python-pptx\n",
      "Successfully installed XlsxWriter-3.2.5 lxml-5.4.0 python-pptx-1.0.2\n"
     ]
    },
    {
     "name": "stderr",
     "output_type": "stream",
     "text": [
      "\n",
      "[notice] A new release of pip is available: 24.0 -> 25.1.1\n",
      "[notice] To update, run: python.exe -m pip install --upgrade pip\n"
     ]
    }
   ],
   "source": [
    "!pip install python-pptx"
   ]
  },
  {
   "cell_type": "code",
   "execution_count": 2,
   "metadata": {},
   "outputs": [
    {
     "name": "stderr",
     "output_type": "stream",
     "text": [
      "ERROR: Could not find a version that satisfies the requirement json (from versions: none)\n",
      "ERROR: No matching distribution found for json\n",
      "\n",
      "[notice] A new release of pip is available: 24.0 -> 25.1.1\n",
      "[notice] To update, run: python.exe -m pip install --upgrade pip\n"
     ]
    }
   ],
   "source": [
    "!pip install json"
   ]
  },
  {
   "cell_type": "code",
   "execution_count": 12,
   "metadata": {},
   "outputs": [],
   "source": [
    "from pptx import Presentation\n",
    "from pptx.util import Inches, Pt\n",
    "from pptx.enum.text import PP_ALIGN\n",
    "\n",
    "from pptx import Presentation\n",
    "from pptx.util import Inches, Pt\n",
    "import textwrap\n",
    "\n",
    "def get_bible_text(bible_json:dict, bible_head_dict:dict, head_str:str, f_num:str, s_start_num:str, s_end_num:str = '0') -> list:\n",
    "    # 성경 리스트로 불러오기\n",
    "    the_text_li = []\n",
    "    the_text_li.append(s_start_num+'. '+bible_json[head_str][f_num][s_start_num])\n",
    "    if s_end_num == '0':\n",
    "        return the_text_li\n",
    "    else:\n",
    "        for idx in range(int(s_start_num)+1, int(s_end_num)+1):\n",
    "            the_text_li.append(str(idx)+'. '+bible_json[head_str][f_num][str(idx)])\n",
    "\n",
    "    # ppt 파일 이름 생성\n",
    "    ppt_file_nm = bible_head_dict[head_str]+f_num+'_'+s_start_num\n",
    "    if s_end_num!= '0':\n",
    "        ppt_file_nm = ppt_file_nm +'-'+s_end_num\n",
    "    \n",
    "    return the_text_li, ppt_file_nm\n",
    "\n",
    "# the_text_li, ppt_file_nm = get_bible_text(bible_json, '창', '1', '1', '4')\n",
    "\n",
    "def add_text_to_textbox(text_box_tf_p, text, text_box_size, font_size):\n",
    "    \"\"\"텍스트 상자에 텍스트를 추가하고 줄바꿈을 처리합니다.\n",
    "\n",
    "    Args:\n",
    "        textbox: 텍스트 상자 객체.\n",
    "        text: 추가할 텍스트 문자열.\n",
    "        width_ratio: 텍스트 상자 너비 대비 문자 수 비율 (조절 필요).\n",
    "    \"\"\"\n",
    "    wrapped_text = textwrap.wrap(text, width=int(Inches(text_box_size) / (Pt(font_size)*0.8)))\n",
    "    text_box_tf_p.text = \"\\n\".join(wrapped_text)\n",
    "\n",
    "def get_bible_ppt(image_files_path, the_text_li, ppt_file_nm):\n",
    "    # 이미지와 텍스트리스트, 파일명을 받아 ppt로 구성해서 저장하는 함수\n",
    "\n",
    "    # 프레젠테이션 객체 생성\n",
    "    prs = Presentation()\n",
    "\n",
    "    # 각 이미지에 대해 슬라이드 추가\n",
    "    for idx in range(len(the_text_li)):\n",
    "        the_text = the_text_li[idx]\n",
    "        prs.slide_width = Inches(16) \n",
    "        prs.slide_height = Inches(9)\n",
    "        slide_layout = prs.slide_layouts[1]  # 빈 슬라이드 레이아웃 선택\n",
    "        slide = prs.slides.add_slide(slide_layout)\n",
    "\n",
    "        # 이미지 추가\n",
    "        left = Inches(0)\n",
    "        top = Inches(0)\n",
    "        height = Inches(9)\n",
    "        \n",
    "        slide.shapes.add_picture(image_files_path, left, top, width=Inches(16), height=Inches(9))\n",
    "        # slide.shapes.add_picture(image_files, left, top, height=height)\n",
    "\n",
    "        # 제목\n",
    "        shape = slide.shapes.title\n",
    "        shape.text = ':'.join(ppt_file_nm.split('_'))\n",
    "\n",
    "\n",
    "        #title_box = slide.shapes.add_textbox(left=Inches(1), top=Inches(0.2), width=Inches(14), height=Inches(6))\n",
    "        #title_box_tf = title_box.text_frame\n",
    "        #title_box_tf_p = title_box_tf.add_paragraph()\n",
    "        #title_box_tf_p.text = ':'.join(ppt_file_nm.split('_'))\n",
    "        #title_box_tf_p.font.size = Pt(45)\n",
    "        #title_box_tf_p.font.bold = True\n",
    "        #try:\n",
    "        #    title_box_tf_p.font.name = '맑은 고딕'\n",
    "        #except:\n",
    "        #    pass\n",
    "\n",
    "        # 내용\n",
    "        text_box = slide.shapes.add_textbox(left=Inches(1), top=Inches(1.2), width=Inches(14), height=Inches(6))\n",
    "        text_box_tf = text_box.text_frame\n",
    "        text_box_tf_p = text_box_tf.add_paragraph()\n",
    "        add_text_to_textbox(text_box_tf_p, the_text, text_box_size=13, font_size=36)\n",
    "        text_box_tf_p.font.size = Pt(40)\n",
    "        try:\n",
    "            text_box_tf_p.font.name = '넥슨 풋볼고딕 B'\n",
    "        except:\n",
    "            pass\n",
    "        \n",
    "        #tf = body_shape.text_frame\n",
    "        #tf.text = the_text\n",
    "\n",
    "    # 파일 저장\n",
    "    \n",
    "    prs.save('./ppts/'+ppt_file_nm+'.pptx')"
   ]
  },
  {
   "cell_type": "code",
   "execution_count": 13,
   "metadata": {},
   "outputs": [],
   "source": [
    "head_str = '요' \n",
    "f_num  = '1'\n",
    "s_start_num = '1'\n",
    "s_end_num = '10'"
   ]
  },
  {
   "cell_type": "code",
   "execution_count": 15,
   "metadata": {},
   "outputs": [],
   "source": [
    "import json\n",
    "\n",
    "with open('./data/index_bible2.json', 'r', encoding='utf8') as b_json:\n",
    "    bible_json = json.load(b_json)\n",
    "\n",
    "with open('./data/bible_head_dict.json', 'r', encoding='utf8') as b_json:\n",
    "    bible_head_dict = json.load(b_json)\n",
    "    \n",
    "image_files_path = './data/ppt배경.png'  # 여기에 이미지 파일 경로를 추가하세요\n",
    "\n",
    "the_text_li, ppt_file_nm = get_bible_text(bible_json, bible_head_dict, head_str, f_num, s_start_num, s_end_num)\n",
    "get_bible_ppt(image_files_path, the_text_li, ppt_file_nm)"
   ]
  },
  {
   "cell_type": "code",
   "execution_count": null,
   "metadata": {},
   "outputs": [],
   "source": []
  },
  {
   "cell_type": "code",
   "execution_count": null,
   "metadata": {},
   "outputs": [],
   "source": []
  },
  {
   "cell_type": "code",
   "execution_count": 297,
   "metadata": {},
   "outputs": [],
   "source": [
    "bible_head_dict = {'창':'창세기', '출':'출애굽기', '레':'레위기', '민':'민수기', '신':'신명기', '수':'여호수아', '삿':'사사기', '룻':'룻기', '삼상':'사무엘상', '삼하':'사무엘하', '왕상':'열왕기상', '왕하':'열왕기하', '대상':'역대상', '대하':'역대하', '스':'에스라', '느':'느헤미야', '에':'에스더', '욥':'욥기', '시':'시편', '잠':'잠언', '전':'전도서', '아':'아가', '사':'이사야', '렘':'예레미야', '애':'예레미야애가', '겔':'에스겔', '단':'다니엘', '호':'호세아', '욜':'요엘', '암':'아모스', '옵':'오바댜', '욘':'요나', '미':'미가', '나':'나훔', '합':'하박국', '습':'스바냐', '학':'학개', '슥':'스가랴', '말':'말라기', '마':'마태복음', '막':'마가복음', '눅':'누가복음', '요':'요한복음', '행':'사도행전', '롬':'로마서', '고전':'고린도전서', '고후':'고린도후서', '갈':'갈라디아서', '엡':'에베소서', '빌':'빌립보서', '골':'골로새서', '살전':'데살로니가전서', '살후':'데살로니가후서', '딤전':'디모데전서', '딤후':'디모데후서', '딛':'디도서', '몬':'빌레몬서', '히':'히브리서', '약':'야고보서', '벧전':'베드로전서', '벧후':'베드로후서', '요일':'요한일서', '요이':'요한이서', '요삼':'요한삼서', '유':'유다서', '계':'요한계시록'}"
   ]
  },
  {
   "cell_type": "code",
   "execution_count": 298,
   "metadata": {},
   "outputs": [],
   "source": [
    "with open('./data/bible_head_dict.json', 'w', encoding='utf8') as f:\n",
    "    json.dump(bible_head_dict, f)"
   ]
  },
  {
   "cell_type": "code",
   "execution_count": 162,
   "metadata": {},
   "outputs": [
    {
     "data": {
      "text/plain": [
       "'요1_1-10'"
      ]
     },
     "execution_count": 162,
     "metadata": {},
     "output_type": "execute_result"
    }
   ],
   "source": [
    "ppt_file_nm"
   ]
  },
  {
   "cell_type": "code",
   "execution_count": null,
   "metadata": {},
   "outputs": [],
   "source": [
    "# bible.json 전처리해서 저장 코드\n",
    "\n",
    "# import re\n",
    "# from collections import defaultdict\n",
    "\n",
    "# new_bible_dict = defaultdict(str)\n",
    "# error_dict = dict()\n",
    "# for raw_key in bible_json.keys():\n",
    "#     try:\n",
    "#         head_str = re.sub(r'[0-9]+:[0-9]+', '', raw_key).strip()\n",
    "#         f_num_idx_li = re.search(r'[0-9]+:[0-9]+', raw_key).span()\n",
    "#         f_num, s_num = raw_key[f_num_idx_li[0]:f_num_idx_li[1]].split(':')\n",
    "#     except:\n",
    "#         error_dict[raw_key] = bible_json[raw_key].strip()\n",
    "#     if len(new_bible_dict[head_str]) == 0:\n",
    "#         new_bible_dict[head_str] = defaultdict(str)\n",
    "#     if len(new_bible_dict[head_str][f_num]) == 0:\n",
    "#         new_bible_dict[head_str][f_num] = defaultdict(str)\n",
    "    \n",
    "#     new_bible_dict[head_str][f_num][s_num] = bible_json[raw_key].strip()"
   ]
  },
  {
   "cell_type": "code",
   "execution_count": null,
   "metadata": {},
   "outputs": [],
   "source": [
    "#with open('./fewfewf', 'w', encoding='utf8') as f:\n",
    "#    json.dump(bible_json, f)"
   ]
  },
  {
   "cell_type": "code",
   "execution_count": null,
   "metadata": {},
   "outputs": [],
   "source": [
    "# def get_bible_ppt(image_files_path, the_text_li, ppt_file_nm):\n",
    "#     # 이미지와 텍스트리스트, 파일명을 받아 ppt로 구성해서 저장하는 함수\n",
    "\n",
    "#     # 프레젠테이션 객체 생성\n",
    "#     prs = Presentation()\n",
    "\n",
    "#     # 각 이미지에 대해 슬라이드 추가\n",
    "#     for idx in range(len(the_text_li)):\n",
    "#         the_text = the_text_li[idx]\n",
    "#         prs.slide_width = Inches(16) \n",
    "#         prs.slide_height = Inches(9)\n",
    "#         slide_layout = prs.slide_layouts[1]  # 빈 슬라이드 레이아웃 선택\n",
    "#         slide = prs.slides.add_slide(slide_layout)\n",
    "\n",
    "#         # 이미지 추가\n",
    "#         left = Inches(0)\n",
    "#         top = Inches(0)\n",
    "#         height = Inches(9)\n",
    "        \n",
    "#         slide.shapes.add_picture(image_files_path, left, top, width=Inches(16), height=Inches(9))\n",
    "#         # slide.shapes.add_picture(image_files, left, top, height=height)\n",
    "\n",
    "#         # 제목\n",
    "#         title_box = slide.shapes.add_textbox(left=Inches(1), top=Inches(0.2), width=Inches(14), height=Inches(6))\n",
    "#         title_box_tf = title_box.text_frame\n",
    "#         title_box_tf_p = title_box_tf.add_paragraph()\n",
    "#         title_box_tf_p.text = ':'.join(ppt_file_nm.split('_'))\n",
    "#         title_box_tf_p.font.size = Pt(45)\n",
    "#         title_box_tf_p.font.bold = True\n",
    "#         try:\n",
    "#             title_box_tf_p.font.name = '맑은 고딕'\n",
    "#         except:\n",
    "#             pass\n",
    "\n",
    "#         # 내용\n",
    "#         text_box = slide.shapes.add_textbox(left=Inches(1), top=Inches(1.2), width=Inches(14), height=Inches(6))\n",
    "#         text_box_tf = text_box.text_frame\n",
    "#         text_box_tf_p = text_box_tf.add_paragraph()\n",
    "#         add_text_to_textbox(text_box_tf_p, the_text, text_box_size=13, font_size=36)\n",
    "#         text_box_tf_p.font.size = Pt(40)\n",
    "#         try:\n",
    "#             text_box_tf_p.font.name = '넥슨 풋볼고딕 B'\n",
    "#         except:\n",
    "#             pass\n",
    "        \n",
    "#         #tf = body_shape.text_frame\n",
    "#         #tf.text = the_text\n",
    "\n",
    "#     # 파일 저장\n",
    "    \n",
    "#     prs.save('./ppts/'+ppt_file_nm+'.pptx')"
   ]
  },
  {
   "cell_type": "code",
   "execution_count": null,
   "metadata": {},
   "outputs": [],
   "source": [
    "wrapped_text = textwrap.wrap('new_bible_dict[head_str][f_num][s_num] = bible_json[raw_key].strip()', \n",
    "                             width=int(Inches(13) / Pt(40)))\n",
    "print(wrapped_text)\n",
    "\"\\n\".join(wrapped_text)"
   ]
  }
 ],
 "metadata": {
  "kernelspec": {
   "display_name": "Python 3",
   "language": "python",
   "name": "python3"
  },
  "language_info": {
   "codemirror_mode": {
    "name": "ipython",
    "version": 3
   },
   "file_extension": ".py",
   "mimetype": "text/x-python",
   "name": "python",
   "nbconvert_exporter": "python",
   "pygments_lexer": "ipython3",
   "version": "3.12.3"
  }
 },
 "nbformat": 4,
 "nbformat_minor": 2
}
